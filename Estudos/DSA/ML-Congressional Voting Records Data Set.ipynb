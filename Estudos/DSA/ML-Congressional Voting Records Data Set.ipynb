{
 "cells": [
  {
   "cell_type": "code",
   "execution_count": 1,
   "metadata": {},
   "outputs": [],
   "source": [
    "import pandas as pd\n"
   ]
  },
  {
   "cell_type": "code",
   "execution_count": 2,
   "metadata": {},
   "outputs": [],
   "source": [
    "#base de dados https://archive.ics.uci.edu/ml/datasets/Congressional+Voting+Records\n",
    "#objetivo prever se são Democratas ou Republicanos baseado em como eles votam\n",
    "#importando o dataset\n",
    "votes = pd.read_csv('house-votes-84.data')\n",
    "#incluindo os cabeçalhos\n",
    "votes.columns = [\"Class_Name\",'handicapped_infants','water_project_cost_sharing','adoption_of_the_budget_resolution','physician_fee_freeze','el_salvador_aid','religious_groups_in_schools','anti_satellite_test_ban','aid_to_nicaraguan_contras','mx_missile','immigration','synfuels_corporation_cutback','education_spending','superfund_right_to_sue','crime','duty_free_exports','export_administration_act_south_africa']\n",
    "#exportando uma cópia em csv\n",
    "votes.to_csv('votes.csv', index=None,header=True)  \n",
    "   "
   ]
  },
  {
   "cell_type": "code",
   "execution_count": 3,
   "metadata": {},
   "outputs": [
    {
     "data": {
      "text/html": [
       "<div>\n",
       "<style scoped>\n",
       "    .dataframe tbody tr th:only-of-type {\n",
       "        vertical-align: middle;\n",
       "    }\n",
       "\n",
       "    .dataframe tbody tr th {\n",
       "        vertical-align: top;\n",
       "    }\n",
       "\n",
       "    .dataframe thead th {\n",
       "        text-align: right;\n",
       "    }\n",
       "</style>\n",
       "<table border=\"1\" class=\"dataframe\">\n",
       "  <thead>\n",
       "    <tr style=\"text-align: right;\">\n",
       "      <th></th>\n",
       "      <th>Class_Name</th>\n",
       "      <th>handicapped_infants</th>\n",
       "      <th>water_project_cost_sharing</th>\n",
       "      <th>adoption_of_the_budget_resolution</th>\n",
       "      <th>physician_fee_freeze</th>\n",
       "      <th>el_salvador_aid</th>\n",
       "      <th>religious_groups_in_schools</th>\n",
       "      <th>anti_satellite_test_ban</th>\n",
       "      <th>aid_to_nicaraguan_contras</th>\n",
       "      <th>mx_missile</th>\n",
       "      <th>immigration</th>\n",
       "      <th>synfuels_corporation_cutback</th>\n",
       "      <th>education_spending</th>\n",
       "      <th>superfund_right_to_sue</th>\n",
       "      <th>crime</th>\n",
       "      <th>duty_free_exports</th>\n",
       "      <th>export_administration_act_south_africa</th>\n",
       "    </tr>\n",
       "  </thead>\n",
       "  <tbody>\n",
       "    <tr>\n",
       "      <th>0</th>\n",
       "      <td>republican</td>\n",
       "      <td>n</td>\n",
       "      <td>y</td>\n",
       "      <td>n</td>\n",
       "      <td>y</td>\n",
       "      <td>y</td>\n",
       "      <td>y</td>\n",
       "      <td>n</td>\n",
       "      <td>n</td>\n",
       "      <td>n</td>\n",
       "      <td>n</td>\n",
       "      <td>n</td>\n",
       "      <td>y</td>\n",
       "      <td>y</td>\n",
       "      <td>y</td>\n",
       "      <td>n</td>\n",
       "      <td>?</td>\n",
       "    </tr>\n",
       "    <tr>\n",
       "      <th>1</th>\n",
       "      <td>democrat</td>\n",
       "      <td>?</td>\n",
       "      <td>y</td>\n",
       "      <td>y</td>\n",
       "      <td>?</td>\n",
       "      <td>y</td>\n",
       "      <td>y</td>\n",
       "      <td>n</td>\n",
       "      <td>n</td>\n",
       "      <td>n</td>\n",
       "      <td>n</td>\n",
       "      <td>y</td>\n",
       "      <td>n</td>\n",
       "      <td>y</td>\n",
       "      <td>y</td>\n",
       "      <td>n</td>\n",
       "      <td>n</td>\n",
       "    </tr>\n",
       "    <tr>\n",
       "      <th>2</th>\n",
       "      <td>democrat</td>\n",
       "      <td>n</td>\n",
       "      <td>y</td>\n",
       "      <td>y</td>\n",
       "      <td>n</td>\n",
       "      <td>?</td>\n",
       "      <td>y</td>\n",
       "      <td>n</td>\n",
       "      <td>n</td>\n",
       "      <td>n</td>\n",
       "      <td>n</td>\n",
       "      <td>y</td>\n",
       "      <td>n</td>\n",
       "      <td>y</td>\n",
       "      <td>n</td>\n",
       "      <td>n</td>\n",
       "      <td>y</td>\n",
       "    </tr>\n",
       "    <tr>\n",
       "      <th>3</th>\n",
       "      <td>democrat</td>\n",
       "      <td>y</td>\n",
       "      <td>y</td>\n",
       "      <td>y</td>\n",
       "      <td>n</td>\n",
       "      <td>y</td>\n",
       "      <td>y</td>\n",
       "      <td>n</td>\n",
       "      <td>n</td>\n",
       "      <td>n</td>\n",
       "      <td>n</td>\n",
       "      <td>y</td>\n",
       "      <td>?</td>\n",
       "      <td>y</td>\n",
       "      <td>y</td>\n",
       "      <td>y</td>\n",
       "      <td>y</td>\n",
       "    </tr>\n",
       "    <tr>\n",
       "      <th>4</th>\n",
       "      <td>democrat</td>\n",
       "      <td>n</td>\n",
       "      <td>y</td>\n",
       "      <td>y</td>\n",
       "      <td>n</td>\n",
       "      <td>y</td>\n",
       "      <td>y</td>\n",
       "      <td>n</td>\n",
       "      <td>n</td>\n",
       "      <td>n</td>\n",
       "      <td>n</td>\n",
       "      <td>n</td>\n",
       "      <td>n</td>\n",
       "      <td>y</td>\n",
       "      <td>y</td>\n",
       "      <td>y</td>\n",
       "      <td>y</td>\n",
       "    </tr>\n",
       "  </tbody>\n",
       "</table>\n",
       "</div>"
      ],
      "text/plain": [
       "   Class_Name handicapped_infants water_project_cost_sharing  \\\n",
       "0  republican                   n                          y   \n",
       "1    democrat                   ?                          y   \n",
       "2    democrat                   n                          y   \n",
       "3    democrat                   y                          y   \n",
       "4    democrat                   n                          y   \n",
       "\n",
       "  adoption_of_the_budget_resolution physician_fee_freeze el_salvador_aid  \\\n",
       "0                                 n                    y               y   \n",
       "1                                 y                    ?               y   \n",
       "2                                 y                    n               ?   \n",
       "3                                 y                    n               y   \n",
       "4                                 y                    n               y   \n",
       "\n",
       "  religious_groups_in_schools anti_satellite_test_ban  \\\n",
       "0                           y                       n   \n",
       "1                           y                       n   \n",
       "2                           y                       n   \n",
       "3                           y                       n   \n",
       "4                           y                       n   \n",
       "\n",
       "  aid_to_nicaraguan_contras mx_missile immigration  \\\n",
       "0                         n          n           n   \n",
       "1                         n          n           n   \n",
       "2                         n          n           n   \n",
       "3                         n          n           n   \n",
       "4                         n          n           n   \n",
       "\n",
       "  synfuels_corporation_cutback education_spending superfund_right_to_sue  \\\n",
       "0                            n                  y                      y   \n",
       "1                            y                  n                      y   \n",
       "2                            y                  n                      y   \n",
       "3                            y                  ?                      y   \n",
       "4                            n                  n                      y   \n",
       "\n",
       "  crime duty_free_exports export_administration_act_south_africa  \n",
       "0     y                 n                                      ?  \n",
       "1     y                 n                                      n  \n",
       "2     n                 n                                      y  \n",
       "3     y                 y                                      y  \n",
       "4     y                 y                                      y  "
      ]
     },
     "execution_count": 3,
     "metadata": {},
     "output_type": "execute_result"
    }
   ],
   "source": [
    "votes.head()"
   ]
  },
  {
   "cell_type": "code",
   "execution_count": 4,
   "metadata": {},
   "outputs": [
    {
     "name": "stdout",
     "output_type": "stream",
     "text": [
      "<class 'pandas.core.frame.DataFrame'>\n",
      "RangeIndex: 434 entries, 0 to 433\n",
      "Data columns (total 17 columns):\n",
      " #   Column                                  Non-Null Count  Dtype \n",
      "---  ------                                  --------------  ----- \n",
      " 0   Class_Name                              434 non-null    object\n",
      " 1   handicapped_infants                     434 non-null    object\n",
      " 2   water_project_cost_sharing              434 non-null    object\n",
      " 3   adoption_of_the_budget_resolution       434 non-null    object\n",
      " 4   physician_fee_freeze                    434 non-null    object\n",
      " 5   el_salvador_aid                         434 non-null    object\n",
      " 6   religious_groups_in_schools             434 non-null    object\n",
      " 7   anti_satellite_test_ban                 434 non-null    object\n",
      " 8   aid_to_nicaraguan_contras               434 non-null    object\n",
      " 9   mx_missile                              434 non-null    object\n",
      " 10  immigration                             434 non-null    object\n",
      " 11  synfuels_corporation_cutback            434 non-null    object\n",
      " 12  education_spending                      434 non-null    object\n",
      " 13  superfund_right_to_sue                  434 non-null    object\n",
      " 14  crime                                   434 non-null    object\n",
      " 15  duty_free_exports                       434 non-null    object\n",
      " 16  export_administration_act_south_africa  434 non-null    object\n",
      "dtypes: object(17)\n",
      "memory usage: 57.8+ KB\n"
     ]
    }
   ],
   "source": [
    "#434 linhas e 17 colunas\n",
    "votes.info()"
   ]
  },
  {
   "cell_type": "code",
   "execution_count": 5,
   "metadata": {},
   "outputs": [
    {
     "name": "stdout",
     "output_type": "stream",
     "text": [
      "Index(['Class_Name', 'handicapped_infants', 'water_project_cost_sharing',\n",
      "       'adoption_of_the_budget_resolution', 'physician_fee_freeze',\n",
      "       'el_salvador_aid', 'religious_groups_in_schools',\n",
      "       'anti_satellite_test_ban', 'aid_to_nicaraguan_contras', 'mx_missile',\n",
      "       'immigration', 'synfuels_corporation_cutback', 'education_spending',\n",
      "       'superfund_right_to_sue', 'crime', 'duty_free_exports',\n",
      "       'export_administration_act_south_africa'],\n",
      "      dtype='object')\n"
     ]
    }
   ],
   "source": [
    "print(votes.keys())"
   ]
  },
  {
   "cell_type": "code",
   "execution_count": 6,
   "metadata": {},
   "outputs": [
    {
     "data": {
      "text/plain": [
       "(434, 17)"
      ]
     },
     "execution_count": 6,
     "metadata": {},
     "output_type": "execute_result"
    }
   ],
   "source": [
    "votes.shape"
   ]
  },
  {
   "cell_type": "code",
   "execution_count": 7,
   "metadata": {},
   "outputs": [
    {
     "name": "stderr",
     "output_type": "stream",
     "text": [
      "C:\\Anaconda..novo\\lib\\site-packages\\ipykernel_launcher.py:4: FutureWarning: pandas.util.testing is deprecated. Use the functions in the public API at pandas.testing instead.\n",
      "  after removing the cwd from sys.path.\n"
     ]
    }
   ],
   "source": [
    "#criar um gráfico com seaborn\n",
    "#http://seaborn.pydata.org/generated/seaborn.countplot.html\n",
    "\n",
    "from pandas.util.testing import assert_frame_equal\n",
    "from pandas.testing import assert_frame_equal\n",
    "import seaborn as sns"
   ]
  },
  {
   "cell_type": "code",
   "execution_count": 8,
   "metadata": {},
   "outputs": [
    {
     "data": {
      "image/png": "[encoded data removed]",
      "text/plain": [
       "<Figure size 432x288 with 1 Axes>"
      ]
     },
     "metadata": {
      "needs_background": "light"
     },
     "output_type": "display_data"
    }
   ],
   "source": [
    "#Podemos verificar que em relação a gastos com educação os democratas votaram massivamente contra \n",
    "ax = sns.countplot(x='education_spending',hue='Class_Name', data= votes, palette='RdBu')\n"
   ]
  },
  {
   "cell_type": "code",
   "execution_count": 9,
   "metadata": {},
   "outputs": [
    {
     "data": {
      "image/png": "[encoded data removed]",
      "text/plain": [
       "<Figure size 432x288 with 1 Axes>"
      ]
     },
     "metadata": {
      "needs_background": "light"
     },
     "output_type": "display_data"
    }
   ],
   "source": [
    "#Podemos verificar que em relação a testes anti satelites democratas votaram massivamente a favor \n",
    "ax = sns.countplot(x='anti_satellite_test_ban',hue='Class_Name', data= votes, palette='RdBu')"
   ]
  },
  {
   "cell_type": "code",
   "execution_count": 10,
   "metadata": {},
   "outputs": [
    {
     "data": {
      "image/png": "[encoded data removed]",
      "text/plain": [
       "<Figure size 432x288 with 1 Axes>"
      ]
     },
     "metadata": {
      "needs_background": "light"
     },
     "output_type": "display_data"
    }
   ],
   "source": [
    "#Podemos verificar que em relação a misseis democratas votaram massivamente a favor \n",
    "ax = sns.countplot(x='mx_missile',hue='Class_Name', data= votes, palette='RdBu')"
   ]
  },
  {
   "cell_type": "code",
   "execution_count": 24,
   "metadata": {},
   "outputs": [
    {
     "data": {
      "text/plain": [
       "array([['n', 'y', 'n', ..., 'y', 'n', '?'],\n",
       "       ['?', 'y', 'y', ..., 'y', 'n', 'n'],\n",
       "       ['n', 'y', 'y', ..., 'n', 'n', 'y'],\n",
       "       ...,\n",
       "       ['n', '?', 'n', ..., 'y', 'n', 'y'],\n",
       "       ['n', 'n', 'n', ..., 'y', 'n', 'y'],\n",
       "       ['n', 'y', 'n', ..., 'y', '?', 'n']], dtype=object)"
      ]
     },
     "execution_count": 24,
     "metadata": {},
     "output_type": "execute_result"
    }
   ],
   "source": [
    "# O KNN (K vizinhos mais próximos) é utilizado em dados já classificados e quando passamos novos dados o algoritimo vai tentar classifica-lo\n",
    "# ele calcula a distancia entre o novo ponto e todos os pontos ja classificados e em um exemplo onde temos um k=3 ele vai \n",
    "#buscar os tres pontos mais proximos e vai atribuir o novo ponto a classe predominante ou seja a que tiver mais pontos proximos\n",
    "#Por padrão a metodologia de calculo da distancia é o minkowski porém com p = 2 fica exatamente igual a euclidiana\n",
    "#https://scikit-learn.org/stable/modules/generated/sklearn.neighbors.DistanceMetric.html\n",
    "\n",
    "#Importando o algoritmo de classificação KNN\n",
    "\n",
    "from sklearn.neighbors import KNeighborsClassifier\n",
    "\n",
    "#criando os vetores com as variaveis preditoras/features = y  e  target/variavel resposta = x\n",
    "y = votes['Class_Name'].values\n",
    "X = votes.drop('Class_Name', axis=1).values\n",
    "X\n",
    "\n",
    "#Criando o modelo com um k = 6 vizinhos mais proximos\n",
    "#knn = KNeighborsClassifier(n_neighbors=6)\n",
    "#knn.fit(X,y)\n"
   ]
  },
  {
   "cell_type": "code",
   "execution_count": null,
   "metadata": {},
   "outputs": [],
   "source": []
  }
 ],
 "metadata": {
  "kernelspec": {
   "display_name": "Python 3",
   "language": "python",
   "name": "python3"
  },
  "language_info": {
   "codemirror_mode": {
    "name": "ipython",
    "version": 3
   },
   "file_extension": ".py",
   "mimetype": "text/x-python",
   "name": "python",
   "nbconvert_exporter": "python",
   "pygments_lexer": "ipython3",
   "version": "3.7.3"
  }
 },
 "nbformat": 4,
 "nbformat_minor": 2
}
